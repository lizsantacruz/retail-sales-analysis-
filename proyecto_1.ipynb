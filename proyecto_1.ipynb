{
  "nbformat": 4,
  "nbformat_minor": 0,
  "metadata": {
    "colab": {
      "provenance": [],
      "authorship_tag": "ABX9TyPHkZoTLqZl4TLKfWxvjvto",
      "include_colab_link": true
    },
    "kernelspec": {
      "name": "python3",
      "display_name": "Python 3"
    },
    "language_info": {
      "name": "python"
    }
  },
  "cells": [
    {
      "cell_type": "markdown",
      "metadata": {
        "id": "view-in-github",
        "colab_type": "text"
      },
      "source": [
        "<a href=\"https://colab.research.google.com/github/lizsantacruz/retail-sales-analysis-/blob/main/proyecto_1.ipynb\" target=\"_parent\"><img src=\"https://colab.research.google.com/assets/colab-badge.svg\" alt=\"Open In Colab\"/></a>"
      ]
    },
    {
      "cell_type": "code",
      "source": [
        "! unzip archive.zip"
      ],
      "metadata": {
        "colab": {
          "base_uri": "https://localhost:8080/"
        },
        "id": "JPd8IlmMcxvl",
        "outputId": "7c1f8f22-ca30-465b-b3c8-6d99c4fda9e5"
      },
      "execution_count": 2,
      "outputs": [
        {
          "output_type": "stream",
          "name": "stdout",
          "text": [
            "Archive:  archive.zip\n",
            "  inflating: retail_sales_dataset.csv  \n"
          ]
        }
      ]
    },
    {
      "cell_type": "code",
      "source": [
        "import numpy as np"
      ],
      "metadata": {
        "id": "Q2DpxFyNdIMO"
      },
      "execution_count": 3,
      "outputs": []
    },
    {
      "cell_type": "code",
      "source": [
        "import numpy as np\n",
        "\n",
        "def cargar_datos(ruta_archivo):\n",
        "    # Carga los datos del archivo CSV utilizando NumPy\n",
        "    datos = np.genfromtxt('/content/retail_sales_dataset.csv', delimiter=',', skip_header=1)\n",
        "    return datos\n",
        "\n",
        "if __name__ == \"__main__\":\n",
        "    ruta_archivo = '../data/retail_sales.csv'\n",
        "    datos = cargar_datos(ruta_archivo)\n",
        "    print(datos)"
      ],
      "metadata": {
        "colab": {
          "base_uri": "https://localhost:8080/"
        },
        "id": "vRP9zbuxdLLc",
        "outputId": "583be409-95d0-4466-9101-eefb92485363"
      },
      "execution_count": 7,
      "outputs": [
        {
          "output_type": "stream",
          "name": "stdout",
          "text": [
            "[[   1.   nan   nan ...    3.   50.  150.]\n",
            " [   2.   nan   nan ...    2.  500. 1000.]\n",
            " [   3.   nan   nan ...    1.   30.   30.]\n",
            " ...\n",
            " [ 998.   nan   nan ...    4.   25.  100.]\n",
            " [ 999.   nan   nan ...    3.   50.  150.]\n",
            " [1000.   nan   nan ...    4.   30.  120.]]\n"
          ]
        }
      ]
    }
  ]
}